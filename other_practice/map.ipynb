{
 "cells": [
  {
   "cell_type": "code",
   "execution_count": 3,
   "metadata": {},
   "outputs": [
    {
     "name": "stdout",
     "output_type": "stream",
     "text": [
      "[2, 4, 6, 8]\n"
     ]
    }
   ],
   "source": [
    "#map()函數在將給定函數應用於給定可迭代項的每個項目(列表，元組等)之後，返回結果的映射對象(它是迭代器)。\n",
    "#map(function, iterable, ...)\n",
    "# Return double of n \n",
    "def addition(n):\n",
    "    return n + n \n",
    "  \n",
    "# We double all numbers using map() \n",
    "numbers = (1, 2, 3, 4) \n",
    "result = map(addition, numbers) \n",
    "print(list(result))\n"
   ]
  },
  {
   "cell_type": "code",
   "execution_count": 1,
   "metadata": {},
   "outputs": [
    {
     "data": {
      "text/plain": [
       "[1, 4, 9]"
      ]
     },
     "execution_count": 1,
     "metadata": {},
     "output_type": "execute_result"
    }
   ],
   "source": [
    "def f(x):\n",
    "    return x*x\n",
    "result = map(f,[1,2,3])\n",
    "list(result)"
   ]
  },
  {
   "cell_type": "code",
   "execution_count": 2,
   "metadata": {},
   "outputs": [
    {
     "data": {
      "text/plain": [
       "[4, 6, 8]"
      ]
     },
     "execution_count": 2,
     "metadata": {},
     "output_type": "execute_result"
    }
   ],
   "source": [
    "def f(x,y):\n",
    "    return (x+y)\n",
    "result = map(f,[1,2,3],[3,4,5])\n",
    "list(result)"
   ]
  },
  {
   "cell_type": "code",
   "execution_count": 2,
   "metadata": {},
   "outputs": [
    {
     "name": "stdout",
     "output_type": "stream",
     "text": [
      "[2, 4, 6, 8]\n"
     ]
    }
   ],
   "source": [
    "# Double all numbers using map and lambda \n",
    "# lambda只是把funtion簡化  \n",
    "numbers = (1, 2, 3, 4) \n",
    "result = map(lambda x:x + x, numbers) \n",
    "print(list(result))"
   ]
  },
  {
   "cell_type": "code",
   "execution_count": 1,
   "metadata": {},
   "outputs": [
    {
     "name": "stdout",
     "output_type": "stream",
     "text": [
      "[5, 7, 9]\n"
     ]
    }
   ],
   "source": [
    "# Add two lists using map and lambda \n",
    "  \n",
    "numbers1 = [1, 2, 3] \n",
    "numbers2 = [4, 5, 6] \n",
    "  \n",
    "result = map(lambda x, y:x + y, numbers1, numbers2) \n",
    "print(list(result))"
   ]
  },
  {
   "cell_type": "code",
   "execution_count": 11,
   "metadata": {},
   "outputs": [
    {
     "name": "stdout",
     "output_type": "stream",
     "text": [
      "[['s', 'a', 't'], ['b', 'a', 't'], ['c', 'a', 't'], ['m', 'a', 't']]\n",
      "[{'a', 's', 't'}, {'a', 'b', 't'}, {'a', 't', 'c'}, {'a', 'm', 't'}]\n",
      "[('s', 'a', 't'), ('b', 'a', 't'), ('c', 'a', 't'), ('m', 'a', 't')]\n"
     ]
    }
   ],
   "source": [
    "# List of strings \n",
    "l = ['sat', 'bat', 'cat', 'mat'] \n",
    "  \n",
    "# map() can listify the list of strings individually \n",
    "test = list(map(list, l)) \n",
    "print(test)\n",
    "test2 = list(map(set, l)) \n",
    "print(test2)\n",
    "test2 = list(map(tuple, l)) \n",
    "print(test2)\n"
   ]
  }
 ],
 "metadata": {
  "interpreter": {
   "hash": "6faffe25ee85f8d632b7f91166c338bb05858884c992f74970668789eec80095"
  },
  "kernelspec": {
   "display_name": "Python 3.9.9 64-bit (windows store)",
   "language": "python",
   "name": "python3"
  },
  "language_info": {
   "codemirror_mode": {
    "name": "ipython",
    "version": 3
   },
   "file_extension": ".py",
   "mimetype": "text/x-python",
   "name": "python",
   "nbconvert_exporter": "python",
   "pygments_lexer": "ipython3",
   "version": "3.9.9"
  },
  "orig_nbformat": 4
 },
 "nbformat": 4,
 "nbformat_minor": 2
}
