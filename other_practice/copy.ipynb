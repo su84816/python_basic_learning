{
 "cells": [
  {
   "cell_type": "code",
   "execution_count": 2,
   "metadata": {},
   "outputs": [
    {
     "name": "stdout",
     "output_type": "stream",
     "text": [
      "2138929314496\n",
      "2138929314496\n"
     ]
    }
   ],
   "source": [
    "#一般情況的複製\n",
    "a = [1, 2, 3]\n",
    "b = a\n",
    "print(id(a))\n",
    "print(id(b)) \n",
    "#一樣的記憶體位置"
   ]
  },
  {
   "cell_type": "code",
   "execution_count": 8,
   "metadata": {},
   "outputs": [
    {
     "name": "stdout",
     "output_type": "stream",
     "text": [
      "[11, 2, 3]\n",
      "[11, 22, 3]\n"
     ]
    }
   ],
   "source": [
    "a = [1, 2, 3]\n",
    "b = a\n",
    "b[0] = 11\n",
    "print(a)\n",
    "a[1] =22\n",
    "print(b)"
   ]
  },
  {
   "cell_type": "code",
   "execution_count": 4,
   "metadata": {},
   "outputs": [
    {
     "name": "stdout",
     "output_type": "stream",
     "text": [
      "2138928569024\n",
      "2138929344640\n",
      "[1, 2, 3]\n",
      "[1, 123, 3]\n"
     ]
    }
   ],
   "source": [
    "#淺複製,copy一份value,但是在另外的記憶體位置\n",
    "import copy\n",
    "a = [1, 2, 3]\n",
    "c = copy.copy(a)\n",
    "print(id(a))\n",
    "print(id(c))\n",
    "c[1] = 123\n",
    "print(a)\n",
    "print(c)"
   ]
  },
  {
   "cell_type": "code",
   "execution_count": 13,
   "metadata": {},
   "outputs": [
    {
     "name": "stdout",
     "output_type": "stream",
     "text": [
      "False\n",
      "True\n",
      "True\n",
      "[11, 2, [333, 4], 5566]\n",
      "[1, 2, [333, 4], 5566]\n"
     ]
    }
   ],
   "source": [
    "#淺複製(shallow copy),裡面的元素如果是list/dict,還是會用指向的方式\n",
    "import copy\n",
    "x = 5566\n",
    "a = [1, 2, [3, 4],x]\n",
    "d = copy.copy(a)\n",
    "print(id(a) == id(d))\n",
    "print(id(a[2]) == id(d[2]))\n",
    "print(id(a[3]) == id(d[3]))\n",
    "\n",
    "a[0] = 11\n",
    "a[2][0] = 333\n",
    "print(a)\n",
    "print(d)\n"
   ]
  },
  {
   "cell_type": "code",
   "execution_count": 18,
   "metadata": {},
   "outputs": [
    {
     "name": "stdout",
     "output_type": "stream",
     "text": [
      "False\n",
      "1 3\n"
     ]
    }
   ],
   "source": [
    "#上述的狀況，可以用深複製(deep copy)解決\n",
    "#全部都會用記憶體來記錄\n",
    "import copy\n",
    "a = [1, 2, [3, 4]]\n",
    "e = copy.deepcopy(a)\n",
    "print(id(e[2]) == id(a[2]))\n",
    "a[2][0] = 1\n",
    "print(a[2][0], e[2][0])"
   ]
  }
 ],
 "metadata": {
  "interpreter": {
   "hash": "6faffe25ee85f8d632b7f91166c338bb05858884c992f74970668789eec80095"
  },
  "kernelspec": {
   "display_name": "Python 3.9.9 64-bit (windows store)",
   "language": "python",
   "name": "python3"
  },
  "language_info": {
   "codemirror_mode": {
    "name": "ipython",
    "version": 3
   },
   "file_extension": ".py",
   "mimetype": "text/x-python",
   "name": "python",
   "nbconvert_exporter": "python",
   "pygments_lexer": "ipython3",
   "version": "3.9.9"
  },
  "orig_nbformat": 4
 },
 "nbformat": 4,
 "nbformat_minor": 2
}
