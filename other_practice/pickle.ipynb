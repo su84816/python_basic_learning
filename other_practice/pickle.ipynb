{
 "cells": [
  {
   "cell_type": "code",
   "execution_count": 1,
   "metadata": {},
   "outputs": [],
   "source": [
    "import pickle\n",
    "a_dict = {'da': 111, 2: [23, 1, 4], '23':{1:2, 'd':'sad'}}\n",
    "with open('pickle_example.pickle','wb') as f:\n",
    "    pickle.dump(a_dict,f)"
   ]
  },
  {
   "cell_type": "code",
   "execution_count": 2,
   "metadata": {},
   "outputs": [
    {
     "name": "stdout",
     "output_type": "stream",
     "text": [
      "{'da': 111, 2: [23, 1, 4], '23': {1: 2, 'd': 'sad'}}\n"
     ]
    }
   ],
   "source": [
    "with open('pickle_example.pickle','rb') as f:\n",
    "    aout_dict = pickle.load(f)\n",
    "print(aout_dict)"
   ]
  }
 ],
 "metadata": {
  "interpreter": {
   "hash": "6faffe25ee85f8d632b7f91166c338bb05858884c992f74970668789eec80095"
  },
  "kernelspec": {
   "display_name": "Python 3.9.9 64-bit (windows store)",
   "language": "python",
   "name": "python3"
  },
  "language_info": {
   "codemirror_mode": {
    "name": "ipython",
    "version": 3
   },
   "file_extension": ".py",
   "mimetype": "text/x-python",
   "name": "python",
   "nbconvert_exporter": "python",
   "pygments_lexer": "ipython3",
   "version": "3.9.9"
  },
  "orig_nbformat": 4
 },
 "nbformat": 4,
 "nbformat_minor": 2
}
