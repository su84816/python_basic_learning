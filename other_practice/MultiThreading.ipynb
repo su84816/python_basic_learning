{
 "cells": [
  {
   "cell_type": "code",
   "execution_count": 4,
   "metadata": {},
   "outputs": [
    {
     "name": "stdout",
     "output_type": "stream",
     "text": [
      "6\n",
      "[<_MainThread(MainThread, started 22960)>, <Thread(Thread-4, started daemon 5868)>, <Heartbeat(Thread-5, started daemon 23140)>, <ControlThread(Thread-3, started daemon 9936)>, <HistorySavingThread(IPythonHistorySavingThread, started 12576)>, <ParentPollerWindows(Thread-2, started daemon 4228)>]\n",
      "<_MainThread(MainThread, started 22960)>\n"
     ]
    }
   ],
   "source": [
    "#線程(Thread)是OS運算排程的最小單位,一個進程(process)有多個線程\n",
    "import threading\n",
    "def main():\n",
    "    #可以看出電腦有幾個線程\n",
    "    print(threading.active_count())\n",
    "    #顯示線程長什麼樣子\n",
    "    print(threading.enumerate())\n",
    "    #目前運行的線程是哪個\n",
    "    print(threading.current_thread())\n",
    "if __name__ == '__main__':\n",
    "    main()"
   ]
  },
  {
   "cell_type": "code",
   "execution_count": 7,
   "metadata": {},
   "outputs": [
    {
     "name": "stdout",
     "output_type": "stream",
     "text": [
      "hello,thread 1\n",
      "hello,thread 2\n"
     ]
    }
   ],
   "source": [
    "#新增線程\n",
    "import threading\n",
    "def thread_job():\n",
    "    print(\"hello,thread 1\")\n",
    "    \n",
    "def thread_job2():\n",
    "    print(\"hello,thread 2\")\n",
    "    \n",
    "def main():\n",
    "    #建立線程一,target裡面放你要線程做的事\n",
    "    thread1 = threading.Thread(target = thread_job)\n",
    "    thread1.start()\n",
    "    thread2 = threading.Thread(target = thread_job2)\n",
    "    thread2.start()\n",
    "    \n",
    "if __name__ == '__main__':\n",
    "    main()"
   ]
  },
  {
   "cell_type": "code",
   "execution_count": 10,
   "metadata": {},
   "outputs": [
    {
     "name": "stdout",
     "output_type": "stream",
     "text": [
      "T1 start\n",
      "\n",
      "All done\n",
      "T1 finished\n",
      "\n"
     ]
    }
   ],
   "source": [
    "import threading\n",
    "import time\n",
    "\n",
    "def T1_job():\n",
    "    print(\"T1 start\\n\")\n",
    "    for i in range(10):\n",
    "        time.sleep(0.1)\n",
    "    print(\"T1 finished\\n\")\n",
    "def main():\n",
    "    T1 = threading.Thread(target = T1_job)\n",
    "    T1.start()\n",
    "    print(\"All done\")\n",
    "#因為T1有放Sleep,需要時間,所以結果上All done就比finished早出現 >>> 要使用join   \n",
    "if __name__ == '__main__':\n",
    "    main()"
   ]
  },
  {
   "cell_type": "code",
   "execution_count": 12,
   "metadata": {},
   "outputs": [
    {
     "name": "stdout",
     "output_type": "stream",
     "text": [
      "T1 start\n",
      "\n",
      "T1 finished\n",
      "\n",
      "T2 start\n",
      "\n",
      "T2 finished\n",
      "\n",
      "All done\n"
     ]
    }
   ],
   "source": [
    "#join\n",
    "import threading\n",
    "import time\n",
    "\n",
    "def T1_job():\n",
    "    print(\"T1 start\\n\")\n",
    "    for i in range(10):\n",
    "        time.sleep(0.1)\n",
    "    print(\"T1 finished\\n\")\n",
    "def T2_job():\n",
    "    print(\"T2 start\\n\")\n",
    "    print(\"T2 finished\\n\")    \n",
    "    \n",
    "def main():\n",
    "    T1 = threading.Thread(target = T1_job)\n",
    "    T2 = threading.Thread(target = T2_job)\n",
    "    T1.start()\n",
    "    T2.start()\n",
    "    #使用join讓線程做完後再執行下一行,通常會用再線程工作時間較久的\n",
    "    T1.join()\n",
    "    print(\"All done\")\n",
    "   \n",
    "if __name__ == '__main__':\n",
    "    main()"
   ]
  },
  {
   "cell_type": "code",
   "execution_count": 16,
   "metadata": {},
   "outputs": [
    {
     "name": "stdout",
     "output_type": "stream",
     "text": [
      "[[1, 4, 9], [9, 16, 25], [25, 36, 49], [49, 64, 81]]\n"
     ]
    }
   ],
   "source": [
    "#Queue排程 > 線程裡面不能用return,可以用queue代替\n",
    "import threading\n",
    "from queue import Queue\n",
    "\n",
    "def job(data,q):\n",
    "    for i in range(len(data)):\n",
    "        data[i] = data[i]**2\n",
    "    q.put(data)\n",
    "    \n",
    "def main():\n",
    "    q = Queue()\n",
    "    data = [[1,2,3],[3,4,5],[5,6,7],[7,8,9]]\n",
    "    \n",
    "    for i in range(4):\n",
    "        t = threading.Thread(target = job,args=(data[i],q))\n",
    "        t.start()\n",
    "        t.join()\n",
    "        \n",
    "    result = []\n",
    "    for a in range(4):\n",
    "        result.append(q.get())\n",
    "    print(result)\n",
    "    \n",
    "if __name__ == '__main__':\n",
    "    main()"
   ]
  },
  {
   "cell_type": "code",
   "execution_count": 22,
   "metadata": {},
   "outputs": [
    {
     "name": "stdout",
     "output_type": "stream",
     "text": [
      "job1: 1\n",
      "job1: 2\n",
      "job1: 3\n",
      "job1: 4\n",
      "job1: 5\n",
      "job2: 15\n",
      "job2: 25\n",
      "job2: 35\n",
      "job2: 45\n",
      "job2: 55\n"
     ]
    }
   ],
   "source": [
    "#lock > 讓線程個別進行\n",
    "import threading\n",
    "\n",
    "A = 0\n",
    "lock = threading.Lock()\n",
    "\n",
    "def job1():\n",
    "    global A,lock\n",
    "    #鎖住線程\n",
    "    lock.acquire()\n",
    "    for i in range(5):\n",
    "        A += 1\n",
    "        print(\"job1:\",A)\n",
    "    #做完要釋放\n",
    "    lock.release()\n",
    "    \n",
    "def job2():\n",
    "    global A,lock\n",
    "    lock.acquire()\n",
    "    for i in range(5):\n",
    "        A += 10\n",
    "        print(\"job2:\",A)\n",
    "    lock.release()\n",
    "        \n",
    "def main():\n",
    "    t1 = threading.Thread(target=job1)\n",
    "    t2 = threading.Thread(target=job2)\n",
    "    t1.start()\n",
    "    t2.start()\n",
    "    \n",
    "if __name__ == '__main__':\n",
    "    main()"
   ]
  }
 ],
 "metadata": {
  "interpreter": {
   "hash": "6faffe25ee85f8d632b7f91166c338bb05858884c992f74970668789eec80095"
  },
  "kernelspec": {
   "display_name": "Python 3.9.9 64-bit (windows store)",
   "language": "python",
   "name": "python3"
  },
  "language_info": {
   "codemirror_mode": {
    "name": "ipython",
    "version": 3
   },
   "file_extension": ".py",
   "mimetype": "text/x-python",
   "name": "python",
   "nbconvert_exporter": "python",
   "pygments_lexer": "ipython3",
   "version": "3.9.9"
  },
  "orig_nbformat": 4
 },
 "nbformat": 4,
 "nbformat_minor": 2
}
