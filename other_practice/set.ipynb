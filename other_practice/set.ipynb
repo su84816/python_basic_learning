{
 "cells": [
  {
   "cell_type": "code",
   "execution_count": 1,
   "metadata": {},
   "outputs": [
    {
     "name": "stdout",
     "output_type": "stream",
     "text": [
      "{'a', 'd', 'c', 'b'}\n"
     ]
    }
   ],
   "source": [
    "#set(集合)是不會重複的list\n",
    "char_list = ['a','b','c','c','d','d','d']\n",
    "print(set(char_list))"
   ]
  },
  {
   "cell_type": "code",
   "execution_count": 5,
   "metadata": {},
   "outputs": [
    {
     "name": "stdout",
     "output_type": "stream",
     "text": [
      "{'banana', 'apple', 'pear', 'orange'}\n",
      "<class 'set'>\n"
     ]
    }
   ],
   "source": [
    "#python默認set預設是用大括號包覆\n",
    "basket = {'apple', 'orange', 'apple', 'pear', 'orange', 'banana'}\n",
    "print(basket)\n",
    "print(type(basket))"
   ]
  },
  {
   "cell_type": "code",
   "execution_count": 6,
   "metadata": {},
   "outputs": [
    {
     "name": "stdout",
     "output_type": "stream",
     "text": [
      "<class 'set'>\n",
      "<class 'dict'>\n"
     ]
    }
   ],
   "source": [
    "#創建空集合時要使用set(),非{}>>>字典\n",
    "A = set()\n",
    "B = {}\n",
    "print(type(A))\n",
    "print(type(B))"
   ]
  },
  {
   "cell_type": "code",
   "execution_count": 7,
   "metadata": {},
   "outputs": [
    {
     "name": "stdout",
     "output_type": "stream",
     "text": [
      "{'e', 's', 'h', 'n', 't', 'c', 'a', ' ', 'i', 'T'}\n"
     ]
    }
   ],
   "source": [
    "#可以觀察到,裡面重複的字不會被保留,並且大小寫分別視為一個字\n",
    "sentence = 'This is a sentence'\n",
    "print(set(sentence))"
   ]
  },
  {
   "cell_type": "code",
   "execution_count": 8,
   "metadata": {},
   "outputs": [],
   "source": [
    "#集合運算\n",
    "a = set('abcdefgabbccdd')\n",
    "b = set('cfeffecce')"
   ]
  },
  {
   "cell_type": "code",
   "execution_count": 9,
   "metadata": {},
   "outputs": [
    {
     "data": {
      "text/plain": [
       "{'a', 'b', 'c', 'd', 'e', 'f', 'g'}"
      ]
     },
     "execution_count": 9,
     "metadata": {},
     "output_type": "execute_result"
    }
   ],
   "source": [
    "a"
   ]
  },
  {
   "cell_type": "code",
   "execution_count": 10,
   "metadata": {},
   "outputs": [
    {
     "data": {
      "text/plain": [
       "{'c', 'e', 'f'}"
      ]
     },
     "execution_count": 10,
     "metadata": {},
     "output_type": "execute_result"
    }
   ],
   "source": [
    "b"
   ]
  },
  {
   "cell_type": "code",
   "execution_count": 11,
   "metadata": {},
   "outputs": [
    {
     "data": {
      "text/plain": [
       "{'a', 'b', 'd', 'g'}"
      ]
     },
     "execution_count": 11,
     "metadata": {},
     "output_type": "execute_result"
    }
   ],
   "source": [
    "#差集>>集合a中不包含b集合的元素\n",
    "a-b"
   ]
  },
  {
   "cell_type": "code",
   "execution_count": null,
   "metadata": {},
   "outputs": [],
   "source": [
    "#差集\n",
    "a ^ b"
   ]
  },
  {
   "cell_type": "code",
   "execution_count": 12,
   "metadata": {},
   "outputs": [
    {
     "data": {
      "text/plain": [
       "{'a', 'b', 'c', 'd', 'e', 'f', 'g'}"
      ]
     },
     "execution_count": 12,
     "metadata": {},
     "output_type": "execute_result"
    }
   ],
   "source": [
    "#聯集>>集合a與b包含的所有元素\n",
    "a | b"
   ]
  },
  {
   "cell_type": "code",
   "execution_count": 13,
   "metadata": {},
   "outputs": [
    {
     "data": {
      "text/plain": [
       "{'c', 'e', 'f'}"
      ]
     },
     "execution_count": 13,
     "metadata": {},
     "output_type": "execute_result"
    }
   ],
   "source": [
    "#交集>>集合a中與b共同包含的元素\n",
    "a & b"
   ]
  },
  {
   "cell_type": "code",
   "execution_count": 24,
   "metadata": {},
   "outputs": [
    {
     "name": "stdout",
     "output_type": "stream",
     "text": [
      "{'c', 'b', 'a', 'd', 'x'}\n"
     ]
    }
   ],
   "source": [
    "#集合的加入\n",
    "char_list = ['a','b','c','c','d','d','d']\n",
    "uni_char = set(char_list)\n",
    "uni_char.add('x')\n",
    "print(uni_char)"
   ]
  },
  {
   "cell_type": "code",
   "execution_count": 26,
   "metadata": {},
   "outputs": [
    {
     "name": "stdout",
     "output_type": "stream",
     "text": [
      "{1, 2, 'c', 'b', 'a', 'd', 'x'}\n"
     ]
    }
   ],
   "source": [
    "#如果要加入tuple/list/dict >>> 使用update\n",
    "char_list = ['c', 'b', 'a', 'd', 'x']\n",
    "uni_char = set(char_list)\n",
    "uni_char.update({1,2})\n",
    "print(uni_char)"
   ]
  },
  {
   "cell_type": "code",
   "execution_count": 27,
   "metadata": {},
   "outputs": [
    {
     "name": "stdout",
     "output_type": "stream",
     "text": [
      "{1, 2, 'c', 'b', 'a', 'd'}\n"
     ]
    }
   ],
   "source": [
    "#remove\n",
    "char_list = [1, 2, 'c', 'b', 'a', 'd', 'x']\n",
    "uni_char = set(char_list)\n",
    "uni_char.remove('x')\n",
    "print(uni_char)"
   ]
  },
  {
   "cell_type": "code",
   "execution_count": 28,
   "metadata": {},
   "outputs": [
    {
     "name": "stdout",
     "output_type": "stream",
     "text": [
      "{1, 2, 'c', 'b', 'a', 'd'}\n"
     ]
    }
   ],
   "source": [
    "#discard,另一種移除,但是如果目標不在集合內不會出錯\n",
    "char_list = [1, 2, 'c', 'b', 'a', 'd']\n",
    "uni_char = set(char_list)\n",
    "uni_char.discard('y')\n",
    "print(uni_char)"
   ]
  },
  {
   "cell_type": "code",
   "execution_count": 30,
   "metadata": {},
   "outputs": [
    {
     "name": "stdout",
     "output_type": "stream",
     "text": [
      "{'b', 'c', 'd'}\n"
     ]
    }
   ],
   "source": [
    "#difference 集合的差集\n",
    "set1 = set(['a','b','c','c','d','d','d'])\n",
    "set2 = {'a', 'e', 'i'}\n",
    "print(set1.difference(set2))"
   ]
  },
  {
   "cell_type": "code",
   "execution_count": 31,
   "metadata": {},
   "outputs": [
    {
     "name": "stdout",
     "output_type": "stream",
     "text": [
      "{'a'}\n"
     ]
    }
   ],
   "source": [
    "#intersection 集合的交集\n",
    "set1 = set(['a','b','c','c','d','d','d'])\n",
    "set2 = {'a', 'e', 'i'}\n",
    "print(set1.intersection(set2))"
   ]
  }
 ],
 "metadata": {
  "interpreter": {
   "hash": "6faffe25ee85f8d632b7f91166c338bb05858884c992f74970668789eec80095"
  },
  "kernelspec": {
   "display_name": "Python 3.9.9 64-bit (windows store)",
   "language": "python",
   "name": "python3"
  },
  "language_info": {
   "codemirror_mode": {
    "name": "ipython",
    "version": 3
   },
   "file_extension": ".py",
   "mimetype": "text/x-python",
   "name": "python",
   "nbconvert_exporter": "python",
   "pygments_lexer": "ipython3",
   "version": "3.9.9"
  },
  "orig_nbformat": 4
 },
 "nbformat": 4,
 "nbformat_minor": 2
}
