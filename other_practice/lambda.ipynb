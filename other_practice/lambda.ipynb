{
 "cells": [
  {
   "cell_type": "code",
   "execution_count": 1,
   "metadata": {},
   "outputs": [
    {
     "data": {
      "text/plain": [
       "5"
      ]
     },
     "execution_count": 1,
     "metadata": {},
     "output_type": "execute_result"
    }
   ],
   "source": [
    "def fun1(x,y):\n",
    "    return(x+y)\n",
    "fun1(2,3)"
   ]
  },
  {
   "cell_type": "code",
   "execution_count": 4,
   "metadata": {},
   "outputs": [
    {
     "data": {
      "text/plain": [
       "5"
      ]
     },
     "execution_count": 4,
     "metadata": {},
     "output_type": "execute_result"
    }
   ],
   "source": [
    "#lambda parameter_list: expression\n",
    "fun2 = lambda x , y : x + y\n",
    "fun2(2,3)"
   ]
  },
  {
   "cell_type": "code",
   "execution_count": 5,
   "metadata": {},
   "outputs": [
    {
     "name": "stdout",
     "output_type": "stream",
     "text": [
      "5\n"
     ]
    }
   ],
   "source": [
    "#更加簡潔快速,定義函式後立即代入參數執行\n",
    "#(lambda parameter: expression)(argument)\n",
    "print((lambda x,y:x+y)(2,3))"
   ]
  },
  {
   "cell_type": "code",
   "execution_count": 1,
   "metadata": {},
   "outputs": [
    {
     "name": "stdout",
     "output_type": "stream",
     "text": [
      "17\n",
      "27\n"
     ]
    }
   ],
   "source": [
    "def c(n):\n",
    "    return lambda x: x + n\n",
    "#d變數用來存取n=12時的c函數,會回傳lambda運算式x+12\n",
    "d = c(12)\n",
    "#x代入5\n",
    "print(d(5))\n",
    "print(d(15))"
   ]
  },
  {
   "cell_type": "code",
   "execution_count": 7,
   "metadata": {},
   "outputs": [
    {
     "name": "stdout",
     "output_type": "stream",
     "text": [
      "[50, 12, 30, 27]\n"
     ]
    }
   ],
   "source": [
    "#依據條件運算式，選擇特定的元素\n",
    "#filter(lambda parameter: expression, iterable)\n",
    "numbers = [50, 2, 12, 30, 27, 4]\n",
    "result = filter(lambda x : x > 10, numbers)\n",
    "print(list(result))"
   ]
  },
  {
   "cell_type": "code",
   "execution_count": 8,
   "metadata": {},
   "outputs": [
    {
     "name": "stdout",
     "output_type": "stream",
     "text": [
      "[100, 4, 24, 60, 54, 8]\n"
     ]
    }
   ],
   "source": [
    "#在可疊代的物件中，套用特定運算式於每一個元素\n",
    "#將串列(List)中的每個元素傳入Lambda函式進行特定的運算，最後回傳每個元素的運算結果\n",
    "#map(lambda parameter: expression, iterable)\n",
    "numbers = [50, 2, 12, 30, 27, 4]\n",
    "result = map(lambda x : x * 2, numbers)\n",
    "print(list(result))"
   ]
  },
  {
   "cell_type": "code",
   "execution_count": 18,
   "metadata": {},
   "outputs": [
    {
     "name": "stdout",
     "output_type": "stream",
     "text": [
      "125\n"
     ]
    }
   ],
   "source": [
    "#將可疊代物件中的前兩個元素先進行Lambda運算式的運算。\n",
    "#接著將第一個步驟的運算結果和可疊代物件中的下一個元素(第三個)傳入Lambda函式進行運算。\n",
    "#依此類推，直到可疊代物件的元素都運算完成。\n",
    "#reduce(lambda parameter1, parameter2: expression, iterable)\n",
    "from functools import reduce\n",
    "numbers = [50, 2, 12, 30, 27, 4]\n",
    "result = reduce(lambda x,y : x+y, numbers)\n",
    "print(result)"
   ]
  },
  {
   "cell_type": "code",
   "execution_count": 21,
   "metadata": {},
   "outputs": [
    {
     "name": "stdout",
     "output_type": "stream",
     "text": [
      "[('toyota', 1000), ('mazda', 2000), ('benz', 5000)]\n"
     ]
    }
   ],
   "source": [
    "#排序可疊代物件中的元素\n",
    "#sorted(iterable, key=lambda parameter: expression)\n",
    "cars = [\n",
    "    (\"mazda\", 2000),\n",
    "    (\"toyota\", 1000),\n",
    "    (\"benz\", 5000)\n",
    "]\n",
    "\n",
    "print(sorted(cars, key=lambda car:car[1]))"
   ]
  }
 ],
 "metadata": {
  "interpreter": {
   "hash": "6faffe25ee85f8d632b7f91166c338bb05858884c992f74970668789eec80095"
  },
  "kernelspec": {
   "display_name": "Python 3.9.9 64-bit (windows store)",
   "language": "python",
   "name": "python3"
  },
  "language_info": {
   "codemirror_mode": {
    "name": "ipython",
    "version": 3
   },
   "file_extension": ".py",
   "mimetype": "text/x-python",
   "name": "python",
   "nbconvert_exporter": "python",
   "pygments_lexer": "ipython3",
   "version": "3.9.9"
  },
  "orig_nbformat": 4
 },
 "nbformat": 4,
 "nbformat_minor": 2
}
